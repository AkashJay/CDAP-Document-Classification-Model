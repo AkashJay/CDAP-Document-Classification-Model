{
 "cells": [
  {
   "cell_type": "markdown",
   "metadata": {},
   "source": [
    "# Create a csv file form each file and add a new column as category"
   ]
  },
  {
   "cell_type": "code",
   "execution_count": 30,
   "metadata": {
    "scrolled": false
   },
   "outputs": [],
   "source": [
    "import os\n",
    "import csv\n",
    "\n",
    "path = '/home/akash/Documents/SLIIT/CDAP/Cropus/Join/Cricket/'\n",
    "\n",
    "files = []\n",
    "# r=root, d=directories, f = files\n",
    "for r, d, f in os.walk(path):\n",
    "    for file in f:\n",
    "        files.append(os.path.join(r, file))\n",
    "\n",
    "\n",
    "filenames = files\n",
    "files = {}\n",
    " \n",
    "for filename in filenames:\n",
    "    with open(filename, \"r\") as file:\n",
    "        if filename in files:\n",
    "            continue\n",
    "        files[filename] = file.read()\n",
    "list3=[]\n",
    "for filename, text in files.items():\n",
    "    list3.append(text)"
   ]
  },
  {
   "cell_type": "code",
   "execution_count": 31,
   "metadata": {},
   "outputs": [],
   "source": [
    "import os\n",
    "import csv\n",
    "\n",
    "path = '/home/akash/Documents/SLIIT/CDAP/Cropus/Join/Rugby/'\n",
    "\n",
    "files = []\n",
    "# r=root, d=directories, f = files\n",
    "for r, d, f in os.walk(path):\n",
    "    for file in f:\n",
    "        files.append(os.path.join(r, file))\n",
    "\n",
    "\n",
    "filenames = files\n",
    "files = {}\n",
    " \n",
    "for filename in filenames:\n",
    "    with open(filename, \"r\") as file:\n",
    "        if filename in files:\n",
    "            continue\n",
    "        files[filename] = file.read()\n",
    "list2=[]\n",
    "for filename, text in files.items():\n",
    "    list2.append(text)\n",
    "\n",
    "\n"
   ]
  },
  {
   "cell_type": "code",
   "execution_count": 36,
   "metadata": {},
   "outputs": [],
   "source": [
    "import os\n",
    "import csv\n",
    "\n",
    "path = '/home/akash/Documents/SLIIT/CDAP/Cropus/Join/HiruFootball/'\n",
    "\n",
    "files = []\n",
    "# r=root, d=directories, f = files\n",
    "for r, d, f in os.walk(path):\n",
    "    for file in f:\n",
    "        files.append(os.path.join(r, file))\n",
    "\n",
    "\n",
    "filenames = files\n",
    "files = {}\n",
    " \n",
    "for filename in filenames:\n",
    "    with open(filename, \"r\") as file:\n",
    "        if filename in files:\n",
    "            continue\n",
    "        files[filename] = file.read()\n",
    "list4=[]\n",
    "for filename, text in files.items():\n",
    "    list4.append(text)"
   ]
  },
  {
   "cell_type": "markdown",
   "metadata": {},
   "source": [
    "# Join csv files into a one csv file"
   ]
  },
  {
   "cell_type": "code",
   "execution_count": 38,
   "metadata": {},
   "outputs": [],
   "source": [
    "with open('All.csv', 'w') as csvfile:\n",
    "    filewriter = csv.writer(csvfile)\n",
    "    for rr in list2:\n",
    "#         print(ss)\n",
    "        filewriter.writerow([rr, 'rugby'])\n",
    "    for cc in list3:\n",
    "#         print(ss)\n",
    "        filewriter.writerow([cc, 'cricket'])\n",
    "    for ff in list4:\n",
    "#         print(ss)\n",
    "        filewriter.writerow([ff, 'football'])"
   ]
  },
  {
   "cell_type": "code",
   "execution_count": null,
   "metadata": {},
   "outputs": [],
   "source": []
  }
 ],
 "metadata": {
  "kernelspec": {
   "display_name": "Python 3",
   "language": "python",
   "name": "python3"
  },
  "language_info": {
   "codemirror_mode": {
    "name": "ipython",
    "version": 3
   },
   "file_extension": ".py",
   "mimetype": "text/x-python",
   "name": "python",
   "nbconvert_exporter": "python",
   "pygments_lexer": "ipython3",
   "version": "3.6.7"
  }
 },
 "nbformat": 4,
 "nbformat_minor": 2
}
